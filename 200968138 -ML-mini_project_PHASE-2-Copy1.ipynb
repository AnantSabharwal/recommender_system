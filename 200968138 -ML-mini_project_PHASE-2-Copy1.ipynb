{
 "cells": [
  {
   "cell_type": "markdown",
   "id": "a265016e",
   "metadata": {},
   "source": [
    "# ML Mini Project - Building a basic Movie Recommender System \n",
    " ---\n",
    "## Phase 2"
   ]
  },
  {
   "cell_type": "code",
   "execution_count": 1,
   "id": "3c78314a",
   "metadata": {},
   "outputs": [],
   "source": [
    "#importing the basic libraries\n",
    "import pandas as pd\n",
    "import numpy as np\n",
    "\n",
    "import warnings\n",
    "warnings.filterwarnings('ignore')"
   ]
  },
  {
   "cell_type": "code",
   "execution_count": 2,
   "id": "5369f719",
   "metadata": {},
   "outputs": [],
   "source": [
    "#reading the dataset\n",
    "movie = pd.read_csv(\"movies.csv\")\n",
    "ratings = pd.read_csv(\"ratings.csv\")\n",
    "links = pd.read_csv(\"links.csv\")\n",
    "tags = pd.read_csv(\"tags.csv\")"
   ]
  },
  {
   "cell_type": "code",
   "execution_count": 3,
   "id": "3662a22e",
   "metadata": {},
   "outputs": [],
   "source": [
    "# general data perprocessing\n",
    "ratings.drop(columns='timestamp',inplace=True)\n",
    "tags.drop(columns='timestamp',inplace=True)\n",
    "movie['Year'] = movie['title'].str.extract('.*\\((.*)\\).*',expand = False)\n",
    "movie.replace('2006–2007','2007', inplace = True)"
   ]
  },
  {
   "cell_type": "code",
   "execution_count": 4,
   "id": "423a7669",
   "metadata": {},
   "outputs": [
    {
     "data": {
      "text/html": [
       "<div>\n",
       "<style scoped>\n",
       "    .dataframe tbody tr th:only-of-type {\n",
       "        vertical-align: middle;\n",
       "    }\n",
       "\n",
       "    .dataframe tbody tr th {\n",
       "        vertical-align: top;\n",
       "    }\n",
       "\n",
       "    .dataframe thead th {\n",
       "        text-align: right;\n",
       "    }\n",
       "</style>\n",
       "<table border=\"1\" class=\"dataframe\">\n",
       "  <thead>\n",
       "    <tr style=\"text-align: right;\">\n",
       "      <th></th>\n",
       "      <th>movieId</th>\n",
       "      <th>title</th>\n",
       "      <th>genres</th>\n",
       "      <th>Year</th>\n",
       "    </tr>\n",
       "  </thead>\n",
       "  <tbody>\n",
       "    <tr>\n",
       "      <th>0</th>\n",
       "      <td>1</td>\n",
       "      <td>Toy Story (1995)</td>\n",
       "      <td>Adventure|Animation|Children|Comedy|Fantasy</td>\n",
       "      <td>1995</td>\n",
       "    </tr>\n",
       "    <tr>\n",
       "      <th>1</th>\n",
       "      <td>2</td>\n",
       "      <td>Jumanji (1995)</td>\n",
       "      <td>Adventure|Children|Fantasy</td>\n",
       "      <td>1995</td>\n",
       "    </tr>\n",
       "    <tr>\n",
       "      <th>2</th>\n",
       "      <td>3</td>\n",
       "      <td>Grumpier Old Men (1995)</td>\n",
       "      <td>Comedy|Romance</td>\n",
       "      <td>1995</td>\n",
       "    </tr>\n",
       "    <tr>\n",
       "      <th>3</th>\n",
       "      <td>4</td>\n",
       "      <td>Waiting to Exhale (1995)</td>\n",
       "      <td>Comedy|Drama|Romance</td>\n",
       "      <td>1995</td>\n",
       "    </tr>\n",
       "    <tr>\n",
       "      <th>4</th>\n",
       "      <td>5</td>\n",
       "      <td>Father of the Bride Part II (1995)</td>\n",
       "      <td>Comedy</td>\n",
       "      <td>1995</td>\n",
       "    </tr>\n",
       "  </tbody>\n",
       "</table>\n",
       "</div>"
      ],
      "text/plain": [
       "   movieId                               title  \\\n",
       "0        1                    Toy Story (1995)   \n",
       "1        2                      Jumanji (1995)   \n",
       "2        3             Grumpier Old Men (1995)   \n",
       "3        4            Waiting to Exhale (1995)   \n",
       "4        5  Father of the Bride Part II (1995)   \n",
       "\n",
       "                                        genres  Year  \n",
       "0  Adventure|Animation|Children|Comedy|Fantasy  1995  \n",
       "1                   Adventure|Children|Fantasy  1995  \n",
       "2                               Comedy|Romance  1995  \n",
       "3                         Comedy|Drama|Romance  1995  \n",
       "4                                       Comedy  1995  "
      ]
     },
     "execution_count": 4,
     "metadata": {},
     "output_type": "execute_result"
    }
   ],
   "source": [
    "movie.head()"
   ]
  },
  {
   "cell_type": "code",
   "execution_count": 5,
   "id": "11c6ebb1",
   "metadata": {},
   "outputs": [],
   "source": [
    "#creating copies of the datasets and working on the copies\n",
    "movie1 = movie.copy()\n",
    "tag1 = tags.copy()"
   ]
  },
  {
   "cell_type": "code",
   "execution_count": 6,
   "id": "49f3c152",
   "metadata": {},
   "outputs": [
    {
     "data": {
      "text/plain": [
       "104"
      ]
     },
     "execution_count": 6,
     "metadata": {},
     "output_type": "execute_result"
    }
   ],
   "source": [
    "tag1.drop('userId', inplace = True, axis = 1)\n",
    "tag1.duplicated().sum()"
   ]
  },
  {
   "cell_type": "code",
   "execution_count": 7,
   "id": "a3120fe8",
   "metadata": {},
   "outputs": [
    {
     "data": {
      "text/plain": [
       "0"
      ]
     },
     "execution_count": 7,
     "metadata": {},
     "output_type": "execute_result"
    }
   ],
   "source": [
    "tag1.drop_duplicates(inplace = True)\n",
    "tag1.duplicated().sum()"
   ]
  },
  {
   "cell_type": "code",
   "execution_count": 8,
   "id": "2cac1ef5",
   "metadata": {},
   "outputs": [],
   "source": [
    "#preprocessing on tags\n",
    "tag1['tag'] = tag1['tag'].apply(lambda x : x.replace(' ', ''))\n",
    "tag1['tag'] = tag1['tag'].apply(lambda x : x.lower())"
   ]
  },
  {
   "cell_type": "code",
   "execution_count": 9,
   "id": "93bacfa3",
   "metadata": {},
   "outputs": [],
   "source": [
    "temp_tag = pd.DataFrame(tag1.groupby('movieId')['tag'].apply(lambda x: \"%s\" % ' '.join(x)))"
   ]
  },
  {
   "cell_type": "code",
   "execution_count": 10,
   "id": "a50b8a0c",
   "metadata": {},
   "outputs": [],
   "source": [
    "movie1['genres'] = movie1['genres'].apply(lambda x: x.split('|'))\n",
    "movie1['genres'] = movie1['genres'].apply(lambda x: ' '.join(x))\n",
    "movie1['genres'] = movie1['genres'].apply(lambda x: x.lower())"
   ]
  },
  {
   "cell_type": "code",
   "execution_count": 11,
   "id": "875fd884",
   "metadata": {},
   "outputs": [
    {
     "data": {
      "text/html": [
       "<div>\n",
       "<style scoped>\n",
       "    .dataframe tbody tr th:only-of-type {\n",
       "        vertical-align: middle;\n",
       "    }\n",
       "\n",
       "    .dataframe tbody tr th {\n",
       "        vertical-align: top;\n",
       "    }\n",
       "\n",
       "    .dataframe thead th {\n",
       "        text-align: right;\n",
       "    }\n",
       "</style>\n",
       "<table border=\"1\" class=\"dataframe\">\n",
       "  <thead>\n",
       "    <tr style=\"text-align: right;\">\n",
       "      <th></th>\n",
       "      <th>movieId</th>\n",
       "      <th>title</th>\n",
       "      <th>genres</th>\n",
       "      <th>Year</th>\n",
       "      <th>tag</th>\n",
       "    </tr>\n",
       "  </thead>\n",
       "  <tbody>\n",
       "    <tr>\n",
       "      <th>0</th>\n",
       "      <td>1</td>\n",
       "      <td>Toy Story (1995)</td>\n",
       "      <td>adventure animation children comedy fantasy</td>\n",
       "      <td>1995</td>\n",
       "      <td>pixar fun</td>\n",
       "    </tr>\n",
       "    <tr>\n",
       "      <th>1</th>\n",
       "      <td>2</td>\n",
       "      <td>Jumanji (1995)</td>\n",
       "      <td>adventure children fantasy</td>\n",
       "      <td>1995</td>\n",
       "      <td>fantasy magicboardgame robinwilliams game</td>\n",
       "    </tr>\n",
       "    <tr>\n",
       "      <th>2</th>\n",
       "      <td>3</td>\n",
       "      <td>Grumpier Old Men (1995)</td>\n",
       "      <td>comedy romance</td>\n",
       "      <td>1995</td>\n",
       "      <td>moldy old</td>\n",
       "    </tr>\n",
       "    <tr>\n",
       "      <th>3</th>\n",
       "      <td>5</td>\n",
       "      <td>Father of the Bride Part II (1995)</td>\n",
       "      <td>comedy</td>\n",
       "      <td>1995</td>\n",
       "      <td>pregnancy remake</td>\n",
       "    </tr>\n",
       "    <tr>\n",
       "      <th>4</th>\n",
       "      <td>7</td>\n",
       "      <td>Sabrina (1995)</td>\n",
       "      <td>comedy romance</td>\n",
       "      <td>1995</td>\n",
       "      <td>remake</td>\n",
       "    </tr>\n",
       "  </tbody>\n",
       "</table>\n",
       "</div>"
      ],
      "text/plain": [
       "   movieId                               title  \\\n",
       "0        1                    Toy Story (1995)   \n",
       "1        2                      Jumanji (1995)   \n",
       "2        3             Grumpier Old Men (1995)   \n",
       "3        5  Father of the Bride Part II (1995)   \n",
       "4        7                      Sabrina (1995)   \n",
       "\n",
       "                                        genres  Year  \\\n",
       "0  adventure animation children comedy fantasy  1995   \n",
       "1                   adventure children fantasy  1995   \n",
       "2                               comedy romance  1995   \n",
       "3                                       comedy  1995   \n",
       "4                               comedy romance  1995   \n",
       "\n",
       "                                         tag  \n",
       "0                                  pixar fun  \n",
       "1  fantasy magicboardgame robinwilliams game  \n",
       "2                                  moldy old  \n",
       "3                           pregnancy remake  \n",
       "4                                     remake  "
      ]
     },
     "execution_count": 11,
     "metadata": {},
     "output_type": "execute_result"
    }
   ],
   "source": [
    "df = pd.merge(movie1,temp_tag,on = 'movieId')\n",
    "df['Year'] = df['Year'].replace(np.nan,'0')\n",
    "df.head()"
   ]
  },
  {
   "cell_type": "code",
   "execution_count": 12,
   "id": "6b20a6a4",
   "metadata": {},
   "outputs": [],
   "source": [
    "# creating a new column keywords that includes the contents of the generes, year and tag columns\n",
    "df['keywords'] = df['genres'] +\" \"+ df['Year'] + \" \"+df['tag']"
   ]
  },
  {
   "cell_type": "code",
   "execution_count": 13,
   "id": "549d6940",
   "metadata": {},
   "outputs": [
    {
     "data": {
      "text/html": [
       "<div>\n",
       "<style scoped>\n",
       "    .dataframe tbody tr th:only-of-type {\n",
       "        vertical-align: middle;\n",
       "    }\n",
       "\n",
       "    .dataframe tbody tr th {\n",
       "        vertical-align: top;\n",
       "    }\n",
       "\n",
       "    .dataframe thead th {\n",
       "        text-align: right;\n",
       "    }\n",
       "</style>\n",
       "<table border=\"1\" class=\"dataframe\">\n",
       "  <thead>\n",
       "    <tr style=\"text-align: right;\">\n",
       "      <th></th>\n",
       "      <th>movieId</th>\n",
       "      <th>title</th>\n",
       "      <th>genres</th>\n",
       "      <th>Year</th>\n",
       "      <th>tag</th>\n",
       "      <th>keywords</th>\n",
       "    </tr>\n",
       "  </thead>\n",
       "  <tbody>\n",
       "    <tr>\n",
       "      <th>0</th>\n",
       "      <td>1</td>\n",
       "      <td>Toy Story (1995)</td>\n",
       "      <td>adventure animation children comedy fantasy</td>\n",
       "      <td>1995</td>\n",
       "      <td>pixar fun</td>\n",
       "      <td>adventure animation children comedy fantasy 19...</td>\n",
       "    </tr>\n",
       "    <tr>\n",
       "      <th>1</th>\n",
       "      <td>2</td>\n",
       "      <td>Jumanji (1995)</td>\n",
       "      <td>adventure children fantasy</td>\n",
       "      <td>1995</td>\n",
       "      <td>fantasy magicboardgame robinwilliams game</td>\n",
       "      <td>adventure children fantasy 1995 fantasy magicb...</td>\n",
       "    </tr>\n",
       "    <tr>\n",
       "      <th>2</th>\n",
       "      <td>3</td>\n",
       "      <td>Grumpier Old Men (1995)</td>\n",
       "      <td>comedy romance</td>\n",
       "      <td>1995</td>\n",
       "      <td>moldy old</td>\n",
       "      <td>comedy romance 1995 moldy old</td>\n",
       "    </tr>\n",
       "    <tr>\n",
       "      <th>3</th>\n",
       "      <td>5</td>\n",
       "      <td>Father of the Bride Part II (1995)</td>\n",
       "      <td>comedy</td>\n",
       "      <td>1995</td>\n",
       "      <td>pregnancy remake</td>\n",
       "      <td>comedy 1995 pregnancy remake</td>\n",
       "    </tr>\n",
       "    <tr>\n",
       "      <th>4</th>\n",
       "      <td>7</td>\n",
       "      <td>Sabrina (1995)</td>\n",
       "      <td>comedy romance</td>\n",
       "      <td>1995</td>\n",
       "      <td>remake</td>\n",
       "      <td>comedy romance 1995 remake</td>\n",
       "    </tr>\n",
       "  </tbody>\n",
       "</table>\n",
       "</div>"
      ],
      "text/plain": [
       "   movieId                               title  \\\n",
       "0        1                    Toy Story (1995)   \n",
       "1        2                      Jumanji (1995)   \n",
       "2        3             Grumpier Old Men (1995)   \n",
       "3        5  Father of the Bride Part II (1995)   \n",
       "4        7                      Sabrina (1995)   \n",
       "\n",
       "                                        genres  Year  \\\n",
       "0  adventure animation children comedy fantasy  1995   \n",
       "1                   adventure children fantasy  1995   \n",
       "2                               comedy romance  1995   \n",
       "3                                       comedy  1995   \n",
       "4                               comedy romance  1995   \n",
       "\n",
       "                                         tag  \\\n",
       "0                                  pixar fun   \n",
       "1  fantasy magicboardgame robinwilliams game   \n",
       "2                                  moldy old   \n",
       "3                           pregnancy remake   \n",
       "4                                     remake   \n",
       "\n",
       "                                            keywords  \n",
       "0  adventure animation children comedy fantasy 19...  \n",
       "1  adventure children fantasy 1995 fantasy magicb...  \n",
       "2                      comedy romance 1995 moldy old  \n",
       "3                       comedy 1995 pregnancy remake  \n",
       "4                         comedy romance 1995 remake  "
      ]
     },
     "execution_count": 13,
     "metadata": {},
     "output_type": "execute_result"
    }
   ],
   "source": [
    "df.head()"
   ]
  },
  {
   "cell_type": "code",
   "execution_count": 14,
   "id": "91b6cc9c",
   "metadata": {},
   "outputs": [
    {
     "data": {
      "text/plain": [
       "movieId      int64\n",
       "title       object\n",
       "genres      object\n",
       "Year        object\n",
       "tag         object\n",
       "keywords    object\n",
       "dtype: object"
      ]
     },
     "execution_count": 14,
     "metadata": {},
     "output_type": "execute_result"
    }
   ],
   "source": [
    "df.dtypes"
   ]
  },
  {
   "cell_type": "markdown",
   "id": "37108e0c",
   "metadata": {},
   "source": [
    "#### Content Based Similarity"
   ]
  },
  {
   "cell_type": "code",
   "execution_count": 15,
   "id": "7ba9c089",
   "metadata": {},
   "outputs": [],
   "source": [
    "#creating the final dataframe that we will be working on for item to item based\n",
    "final_df = df[['movieId','title','keywords']]"
   ]
  },
  {
   "cell_type": "code",
   "execution_count": 16,
   "id": "61f66a11",
   "metadata": {},
   "outputs": [
    {
     "data": {
      "text/html": [
       "<div>\n",
       "<style scoped>\n",
       "    .dataframe tbody tr th:only-of-type {\n",
       "        vertical-align: middle;\n",
       "    }\n",
       "\n",
       "    .dataframe tbody tr th {\n",
       "        vertical-align: top;\n",
       "    }\n",
       "\n",
       "    .dataframe thead th {\n",
       "        text-align: right;\n",
       "    }\n",
       "</style>\n",
       "<table border=\"1\" class=\"dataframe\">\n",
       "  <thead>\n",
       "    <tr style=\"text-align: right;\">\n",
       "      <th></th>\n",
       "      <th>movieId</th>\n",
       "      <th>title</th>\n",
       "      <th>keywords</th>\n",
       "    </tr>\n",
       "  </thead>\n",
       "  <tbody>\n",
       "    <tr>\n",
       "      <th>0</th>\n",
       "      <td>1</td>\n",
       "      <td>Toy Story (1995)</td>\n",
       "      <td>adventure animation children comedy fantasy 19...</td>\n",
       "    </tr>\n",
       "    <tr>\n",
       "      <th>1</th>\n",
       "      <td>2</td>\n",
       "      <td>Jumanji (1995)</td>\n",
       "      <td>adventure children fantasy 1995 fantasy magicb...</td>\n",
       "    </tr>\n",
       "    <tr>\n",
       "      <th>2</th>\n",
       "      <td>3</td>\n",
       "      <td>Grumpier Old Men (1995)</td>\n",
       "      <td>comedy romance 1995 moldy old</td>\n",
       "    </tr>\n",
       "    <tr>\n",
       "      <th>3</th>\n",
       "      <td>5</td>\n",
       "      <td>Father of the Bride Part II (1995)</td>\n",
       "      <td>comedy 1995 pregnancy remake</td>\n",
       "    </tr>\n",
       "    <tr>\n",
       "      <th>4</th>\n",
       "      <td>7</td>\n",
       "      <td>Sabrina (1995)</td>\n",
       "      <td>comedy romance 1995 remake</td>\n",
       "    </tr>\n",
       "  </tbody>\n",
       "</table>\n",
       "</div>"
      ],
      "text/plain": [
       "   movieId                               title  \\\n",
       "0        1                    Toy Story (1995)   \n",
       "1        2                      Jumanji (1995)   \n",
       "2        3             Grumpier Old Men (1995)   \n",
       "3        5  Father of the Bride Part II (1995)   \n",
       "4        7                      Sabrina (1995)   \n",
       "\n",
       "                                            keywords  \n",
       "0  adventure animation children comedy fantasy 19...  \n",
       "1  adventure children fantasy 1995 fantasy magicb...  \n",
       "2                      comedy romance 1995 moldy old  \n",
       "3                       comedy 1995 pregnancy remake  \n",
       "4                         comedy romance 1995 remake  "
      ]
     },
     "execution_count": 16,
     "metadata": {},
     "output_type": "execute_result"
    }
   ],
   "source": [
    "final_df.head()"
   ]
  },
  {
   "cell_type": "code",
   "execution_count": 17,
   "id": "d4998b80",
   "metadata": {},
   "outputs": [],
   "source": [
    "#performing feature extraction using counter vectorizer and then computing cosine similarity"
   ]
  },
  {
   "cell_type": "code",
   "execution_count": 18,
   "id": "d0499a7b",
   "metadata": {},
   "outputs": [],
   "source": [
    "#importing the libraries\n",
    "from sklearn.feature_extraction.text import CountVectorizer\n",
    "from sklearn.metrics.pairwise import cosine_similarity"
   ]
  },
  {
   "cell_type": "code",
   "execution_count": 19,
   "id": "cda89d6d",
   "metadata": {},
   "outputs": [],
   "source": [
    "cv = CountVectorizer()\n",
    "vectors = cv.fit_transform(final_df['keywords']).toarray()\n",
    "similarity = cosine_similarity(vectors)"
   ]
  },
  {
   "cell_type": "code",
   "execution_count": 20,
   "id": "8dea0fe8",
   "metadata": {},
   "outputs": [
    {
     "data": {
      "text/plain": [
       "(1572, 1572)"
      ]
     },
     "execution_count": 20,
     "metadata": {},
     "output_type": "execute_result"
    }
   ],
   "source": [
    "#seeing the shape of the similarity array that we have made\n",
    "similarity.shape"
   ]
  },
  {
   "cell_type": "code",
   "execution_count": 21,
   "id": "387b0d4f",
   "metadata": {},
   "outputs": [],
   "source": [
    "#function to recommend the movies\n",
    "def recommend(movie):\n",
    "    movie_index = final_df[final_df['title'] == movie].index[0]\n",
    "    distances = similarity[movie_index]\n",
    "    movies_list = sorted(list(enumerate(distances)),reverse = True, key = lambda x:x[1])[1:11]\n",
    "    \n",
    "    for i in movies_list:\n",
    "        #list.append(final_df.iloc[i[0]].title)\n",
    "        print(final_df.iloc[i[0]].title)\n",
    "    return list"
   ]
  },
  {
   "cell_type": "code",
   "execution_count": 22,
   "id": "388d8493",
   "metadata": {},
   "outputs": [
    {
     "name": "stdout",
     "output_type": "stream",
     "text": [
      "Enter movie name (full): Toy Story (1995)\n"
     ]
    }
   ],
   "source": [
    "movie_name = input(\"Enter movie name (full): \")"
   ]
  },
  {
   "cell_type": "code",
   "execution_count": 23,
   "id": "f339da16",
   "metadata": {},
   "outputs": [
    {
     "name": "stdout",
     "output_type": "stream",
     "text": [
      "Bug's Life, A (1998)\n",
      "Toy Story 2 (1999)\n",
      "Wallace & Gromit: A Close Shave (1995)\n",
      "Shrek (2001)\n",
      "Who Framed Roger Rabbit? (1988)\n",
      "Space Jam (1996)\n",
      "Sinbad: Legend of the Seven Seas (2003)\n",
      "Cat Returns, The (Neko no ongaeshi) (2002)\n",
      "Jumanji (1995)\n",
      "Wallace & Gromit in The Curse of the Were-Rabbit (2005)\n"
     ]
    },
    {
     "data": {
      "text/plain": [
       "list"
      ]
     },
     "execution_count": 23,
     "metadata": {},
     "output_type": "execute_result"
    }
   ],
   "source": [
    "recommend(movie_name)"
   ]
  },
  {
   "cell_type": "markdown",
   "id": "2628654e",
   "metadata": {},
   "source": [
    "#### Coldstart problem\n",
    "show the users the highest rating count with the average number of movies"
   ]
  },
  {
   "cell_type": "code",
   "execution_count": 24,
   "id": "029a5a0c",
   "metadata": {},
   "outputs": [],
   "source": [
    "mean_rat = ratings.groupby('movieId').rating.mean()\n",
    "num_users = ratings.groupby('movieId').userId.count()\n",
    "mean_rat_movie_temp = pd.merge(mean_rat, movie, how='inner', on='movieId')\n",
    "mean_rat_movie = pd.merge(mean_rat_movie_temp, num_users, how='inner', on='movieId')"
   ]
  },
  {
   "cell_type": "code",
   "execution_count": 25,
   "id": "b3c2e58e",
   "metadata": {},
   "outputs": [],
   "source": [
    "mean_rat_movie.drop(columns='genres', inplace=True)\n",
    "mean_rat_movie.rename(columns={'rating':'mean_ratings','userId':'num_users'}, inplace=True)"
   ]
  },
  {
   "cell_type": "code",
   "execution_count": 26,
   "id": "6aeaa0da",
   "metadata": {},
   "outputs": [
    {
     "data": {
      "text/html": [
       "<div>\n",
       "<style scoped>\n",
       "    .dataframe tbody tr th:only-of-type {\n",
       "        vertical-align: middle;\n",
       "    }\n",
       "\n",
       "    .dataframe tbody tr th {\n",
       "        vertical-align: top;\n",
       "    }\n",
       "\n",
       "    .dataframe thead th {\n",
       "        text-align: right;\n",
       "    }\n",
       "</style>\n",
       "<table border=\"1\" class=\"dataframe\">\n",
       "  <thead>\n",
       "    <tr style=\"text-align: right;\">\n",
       "      <th></th>\n",
       "      <th>movieId</th>\n",
       "      <th>mean_ratings</th>\n",
       "      <th>title</th>\n",
       "      <th>Year</th>\n",
       "      <th>num_users</th>\n",
       "    </tr>\n",
       "  </thead>\n",
       "  <tbody>\n",
       "    <tr>\n",
       "      <th>0</th>\n",
       "      <td>1</td>\n",
       "      <td>3.920930</td>\n",
       "      <td>Toy Story (1995)</td>\n",
       "      <td>1995</td>\n",
       "      <td>215</td>\n",
       "    </tr>\n",
       "    <tr>\n",
       "      <th>1</th>\n",
       "      <td>2</td>\n",
       "      <td>3.431818</td>\n",
       "      <td>Jumanji (1995)</td>\n",
       "      <td>1995</td>\n",
       "      <td>110</td>\n",
       "    </tr>\n",
       "    <tr>\n",
       "      <th>2</th>\n",
       "      <td>3</td>\n",
       "      <td>3.259615</td>\n",
       "      <td>Grumpier Old Men (1995)</td>\n",
       "      <td>1995</td>\n",
       "      <td>52</td>\n",
       "    </tr>\n",
       "    <tr>\n",
       "      <th>3</th>\n",
       "      <td>4</td>\n",
       "      <td>2.357143</td>\n",
       "      <td>Waiting to Exhale (1995)</td>\n",
       "      <td>1995</td>\n",
       "      <td>7</td>\n",
       "    </tr>\n",
       "    <tr>\n",
       "      <th>4</th>\n",
       "      <td>5</td>\n",
       "      <td>3.071429</td>\n",
       "      <td>Father of the Bride Part II (1995)</td>\n",
       "      <td>1995</td>\n",
       "      <td>49</td>\n",
       "    </tr>\n",
       "  </tbody>\n",
       "</table>\n",
       "</div>"
      ],
      "text/plain": [
       "   movieId  mean_ratings                               title  Year  num_users\n",
       "0        1      3.920930                    Toy Story (1995)  1995        215\n",
       "1        2      3.431818                      Jumanji (1995)  1995        110\n",
       "2        3      3.259615             Grumpier Old Men (1995)  1995         52\n",
       "3        4      2.357143            Waiting to Exhale (1995)  1995          7\n",
       "4        5      3.071429  Father of the Bride Part II (1995)  1995         49"
      ]
     },
     "execution_count": 26,
     "metadata": {},
     "output_type": "execute_result"
    }
   ],
   "source": [
    "mean_rat_movie.head()"
   ]
  },
  {
   "cell_type": "code",
   "execution_count": 27,
   "id": "ccb16ed3",
   "metadata": {},
   "outputs": [
    {
     "ename": "NameError",
     "evalue": "name 'popular_movies' is not defined",
     "output_type": "error",
     "traceback": [
      "\u001b[1;31m---------------------------------------------------------------------------\u001b[0m",
      "\u001b[1;31mNameError\u001b[0m                                 Traceback (most recent call last)",
      "\u001b[1;32m<ipython-input-27-8e4467a43f49>\u001b[0m in \u001b[0;36m<module>\u001b[1;34m\u001b[0m\n\u001b[1;32m----> 1\u001b[1;33m \u001b[0mpopular_movies\u001b[0m\u001b[1;33m.\u001b[0m\u001b[0mhead\u001b[0m\u001b[1;33m(\u001b[0m\u001b[1;33m)\u001b[0m\u001b[1;33m\u001b[0m\u001b[1;33m\u001b[0m\u001b[0m\n\u001b[0m",
      "\u001b[1;31mNameError\u001b[0m: name 'popular_movies' is not defined"
     ]
    }
   ],
   "source": [
    "popular_movies.head()"
   ]
  },
  {
   "cell_type": "code",
   "execution_count": null,
   "id": "865d5643",
   "metadata": {},
   "outputs": [],
   "source": [
    "popular_movies = mean_rat_movie[mean_rat_movie[\"num_users\"]>50].sort_values('mean_ratings',ascending=False)"
   ]
  },
  {
   "cell_type": "code",
   "execution_count": null,
   "id": "21c63648",
   "metadata": {},
   "outputs": [],
   "source": [
    "#function to display the highest movies with more than 50 ratings as a cold start problem\n",
    "def popular_movies:\n",
    "    for i in range\n",
    "    "
   ]
  },
  {
   "cell_type": "markdown",
   "id": "bb8980ac",
   "metadata": {},
   "source": [
    "#### concidering user based similarity based on other movies liked by the users who watched a given movie"
   ]
  },
  {
   "cell_type": "code",
   "execution_count": null,
   "id": "4c17fc5f",
   "metadata": {},
   "outputs": [],
   "source": [
    "df_pivot = ratings.pivot(index ='movieId',columns='userId',values='rating')\n",
    "df_pivot = df_pivot.dropna(thresh = 10, axis = 0)\n",
    "df_pivot.fillna(0,inplace = True)\n",
    "df_pivot.head()"
   ]
  },
  {
   "cell_type": "code",
   "execution_count": null,
   "id": "69f603e7",
   "metadata": {},
   "outputs": [],
   "source": [
    "# counting rated movies and users who have rated movies\n",
    "users_rated = ratings.groupby('movieId')['rating'].agg('count')\n",
    "movies_rated = ratings.groupby('userId')['rating'].agg('count')"
   ]
  },
  {
   "cell_type": "markdown",
   "id": "ff066055",
   "metadata": {},
   "source": [
    "df_pivot = df_pivot.loc[users_rated[users_rated > 10].index,:]\n",
    "df_pivot = df_pivot.loc[:,movies_rated[movies_rated > 10].index]\n",
    "df_pivot"
   ]
  },
  {
   "cell_type": "code",
   "execution_count": null,
   "id": "f95ca9be",
   "metadata": {},
   "outputs": [],
   "source": [
    "#concidering users which have rated more than 10 movies only\n",
    "df_pivot = df_pivot.loc[:, movies_rated[movies_rated > 10].index]"
   ]
  },
  {
   "cell_type": "code",
   "execution_count": null,
   "id": "85bf7d06",
   "metadata": {},
   "outputs": [],
   "source": [
    "#importing the libraries\n",
    "#creating a compressed matrix aka spare matrix\n",
    "#scipy is an opensource library for mathemnatics, science and engineering\n",
    "from scipy.sparse import csr_matrix\n",
    "from sklearn.neighbors import KNeighborsClassifier,NearestNeighbors"
   ]
  },
  {
   "cell_type": "code",
   "execution_count": null,
   "id": "1328a91b",
   "metadata": {},
   "outputs": [],
   "source": [
    "rating_movieid_matrix = csr_matrix(df_pivot.values)\n",
    "df_pivot.reset_index(inplace = True)\n",
    "knn_model = NearestNeighbors(n_neighbors=10,metric ='cosine',algorithm = 'auto',n_jobs=-1)\n",
    "knn_model.fit(rating_movieid_matrix) "
   ]
  },
  {
   "cell_type": "code",
   "execution_count": null,
   "id": "331c7d49",
   "metadata": {},
   "outputs": [],
   "source": [
    "def get_movie_recommendation(movie_name):\n",
    "    n = 10\n",
    "    movie_list = movie[movie['title'].str.contains(movie_name,case = False)]  \n",
    "    if len(movie_list):        \n",
    "        movie_idx= movie_list.iloc[0]['movieId']\n",
    "        movie_idx = df_pivot[df_pivot['movieId'] == movie_idx].index[0]\n",
    "        distances , indices = knn_model.kneighbors(rating_movieid_matrix[movie_idx],n_neighbors=n+1)    \n",
    "        rec_movie_indices = sorted(list(zip(indices.squeeze().tolist(),distances.squeeze().tolist())),key=lambda x: x[1])[:0:-1]\n",
    "        recommend_frame = []\n",
    "        for val in rec_movie_indices:\n",
    "            movie_idx = df_pivot.iloc[val[0]]['movieId']\n",
    "            idx = movie[movie['movieId'] == movie_idx].index\n",
    "            recommend_frame.append({'Title':movie.iloc[idx]['title'].values[0],'Distance':val[1]})\n",
    "        df = pd.DataFrame(recommend_frame,index=range(1,n+1))\n",
    "        return df\n",
    "    else:\n",
    "        return \"No movie found :( Check input\" "
   ]
  },
  {
   "cell_type": "code",
   "execution_count": null,
   "id": "030c51ef",
   "metadata": {},
   "outputs": [],
   "source": [
    "get_movie_recommendation(str(input(\"Enter movie name\")))"
   ]
  },
  {
   "cell_type": "markdown",
   "id": "77d030c6",
   "metadata": {},
   "source": [
    "### User Based Recommender system"
   ]
  },
  {
   "cell_type": "code",
   "execution_count": null,
   "id": "e33014e4",
   "metadata": {},
   "outputs": [],
   "source": [
    "#importing surprise package to find movie rating for the user for movie which he hasn't watched\n",
    "from surprise import KNNWithMeans,Dataset,accuracy,Reader\n",
    "from surprise.model_selection import train_test_split"
   ]
  },
  {
   "cell_type": "code",
   "execution_count": null,
   "id": "d6e734cf",
   "metadata": {},
   "outputs": [],
   "source": [
    "reader = Reader(rating_scale = (0.5,5))"
   ]
  },
  {
   "cell_type": "code",
   "execution_count": null,
   "id": "8d5f101b",
   "metadata": {},
   "outputs": [],
   "source": [
    "#fitting algorithm \n",
    "alg=KNNWithMeans(k=50,sim_options={\"name\":\"cosine\",\"user_based\":True})"
   ]
  },
  {
   "cell_type": "code",
   "execution_count": null,
   "id": "71af7856",
   "metadata": {},
   "outputs": [],
   "source": [
    "#taking input user id\n",
    "userID = int(input(\"Enter User Id:\"))\n",
    "#finding the names of unique movies in the dataset\n",
    "iids = final_df[\"movieId\"].unique()\n",
    "\n",
    "#preparing the testset\n",
    "testset = [[userID,movie_id,2] for movie_id in iids]\n",
    "prediction = alg.test(testset)\n",
    "\n",
    "#preparing the dataframe consisting of top 10 movies\n",
    "usid=[]\n",
    "rate = []\n",
    "for i in prediction:\n",
    "    usid.append(i.iid)\n",
    "    rate.append(i.est) #inbuilt function to find the estimated rating of the movie\n",
    "predDf = pd.DataFrame({\"MovieID\":usid,\"Ratings\":rate})\n",
    "predDf=predDf.set_index(\"MovieID\")\n",
    "topten = predDf.sort_values(by=\"Ratings\",ascending=False).head(10)\n",
    "top_10_movie_id = pd.Series(topten.index)\n",
    "top_10_movie_id"
   ]
  },
  {
   "cell_type": "code",
   "execution_count": null,
   "id": "46eea41e",
   "metadata": {},
   "outputs": [],
   "source": []
  },
  {
   "cell_type": "code",
   "execution_count": null,
   "id": "ffb904b1",
   "metadata": {},
   "outputs": [],
   "source": [
    "top10_movies_recommended = movies[movies[\"movieId\"].isin(top_10_movie_id)][\"title\"]\n",
    "print(\"movies to be recommended are\", sep= \"\\n\" )\n",
    "print(top10_movies_recommended)"
   ]
  },
  {
   "cell_type": "code",
   "execution_count": null,
   "id": "94799aef",
   "metadata": {},
   "outputs": [],
   "source": []
  },
  {
   "cell_type": "code",
   "execution_count": null,
   "id": "3338e976",
   "metadata": {},
   "outputs": [],
   "source": []
  },
  {
   "cell_type": "markdown",
   "id": "edf9df56",
   "metadata": {},
   "source": [
    "#### building a user based recommender system"
   ]
  },
  {
   "cell_type": "code",
   "execution_count": null,
   "id": "9128da03",
   "metadata": {},
   "outputs": [],
   "source": [
    "merged_dataset = pd.merge(ratings,movie,how = 'inner',on = 'movieId')\n",
    "merged_dataset.drop(['genres','Year'],axis = 1, inplace = True)\n",
    "merged_dataset.head()"
   ]
  },
  {
   "cell_type": "code",
   "execution_count": null,
   "id": "8f63a37d",
   "metadata": {},
   "outputs": [],
   "source": [
    "refined_dataset = merged_dataset.groupby(by = ['userId','title'],as_index=False).agg({\"rating\":\"mean\"})\n",
    "refined_dataset.head()"
   ]
  },
  {
   "cell_type": "code",
   "execution_count": null,
   "id": "1c2c9bed",
   "metadata": {},
   "outputs": [],
   "source": [
    "# pivot and create movie-user matrix\n",
    "user_to_movie_df = refined_dataset.pivot(\n",
    "    index='userId',columns='title',values='rating').fillna(0)\n",
    "user_to_movie_sparse_df = csr_matrix(user_to_movie_df.values)\n",
    "user_to_movie_sparse_df"
   ]
  },
  {
   "cell_type": "code",
   "execution_count": null,
   "id": "b60a003c",
   "metadata": {},
   "outputs": [],
   "source": [
    "knn_model = NearestNeighbors(metric='cosine', algorithm='brute')\n",
    "knn_model.fit(user_to_movie_sparse_df)"
   ]
  },
  {
   "cell_type": "code",
   "execution_count": null,
   "id": "1e00c183",
   "metadata": {},
   "outputs": [],
   "source": [
    "#function to  find the n similar users to given input user\n",
    "def get_similar_users(user,n = 5):\n",
    "    \n",
    "    knn_input = np.asarray([user_to_movie_df.values[user-1]])\n",
    "    distances, indices = knn_model.kneighbors(knn_input, n_neighbors=n+1)\n",
    "    print(\"Top\",n,\"users who are very much similar to the User-\",user, \"are: \")\n",
    "    print(\" \")\n",
    "    for i in range(1,len(distances[0])):\n",
    "        print(i,\". User:\", indices[0][i]+1, \"separated by distance of\",distances[0][i])\n",
    "    return indices.flatten()[1:] + 1, distances.flatten()[1:]"
   ]
  },
  {
   "cell_type": "code",
   "execution_count": null,
   "id": "b20abf98",
   "metadata": {},
   "outputs": [],
   "source": [
    "user_id = int(input(\"Enter user id : \"))"
   ]
  },
  {
   "cell_type": "code",
   "execution_count": null,
   "id": "da75d27a",
   "metadata": {},
   "outputs": [],
   "source": [
    "from pprint import pprint\n",
    "#user_id = 778\n",
    "print(\" Few of movies seen by the User:\")\n",
    "pprint(list(refined_dataset[refined_dataset['userId'] == user_id]['title'])[:10])\n",
    "similar_user_list, distance_list = get_similar_users(user_id,5)"
   ]
  },
  {
   "cell_type": "code",
   "execution_count": null,
   "id": "f9797f24",
   "metadata": {},
   "outputs": [],
   "source": [
    "movie_ratings_sim_users = user_to_movie_df.values[similar_user_list]\n",
    "movie_ratings_sim_users"
   ]
  },
  {
   "cell_type": "code",
   "execution_count": null,
   "id": "bb5f9358",
   "metadata": {},
   "outputs": [],
   "source": [
    "movie_list = user_to_movie_df.columns\n",
    "movie_list"
   ]
  },
  {
   "cell_type": "code",
   "execution_count": null,
   "id": "07cb5b17",
   "metadata": {},
   "outputs": [],
   "source": [
    "def recommend_movies(n):\n",
    "    n = min(len(mean_rat_movie),n)\n",
    "    pprint(list(movie_list[np.argsort(mean_rat_movie)[::-1][:n]]))"
   ]
  },
  {
   "cell_type": "code",
   "execution_count": null,
   "id": "05498731",
   "metadata": {},
   "outputs": [],
   "source": [
    "print(\"movies recommended based on similar users are: \")\n",
    "recommend_movies(10)"
   ]
  },
  {
   "cell_type": "code",
   "execution_count": null,
   "id": "4a44430a",
   "metadata": {},
   "outputs": [],
   "source": []
  }
 ],
 "metadata": {
  "kernelspec": {
   "display_name": "Python 3",
   "language": "python",
   "name": "python3"
  },
  "language_info": {
   "codemirror_mode": {
    "name": "ipython",
    "version": 3
   },
   "file_extension": ".py",
   "mimetype": "text/x-python",
   "name": "python",
   "nbconvert_exporter": "python",
   "pygments_lexer": "ipython3",
   "version": "3.8.8"
  }
 },
 "nbformat": 4,
 "nbformat_minor": 5
}
